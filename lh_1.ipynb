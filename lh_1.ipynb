{
 "metadata": {
  "language_info": {
   "codemirror_mode": {
    "name": "ipython",
    "version": 3
   },
   "file_extension": ".py",
   "mimetype": "text/x-python",
   "name": "python",
   "nbconvert_exporter": "python",
   "pygments_lexer": "ipython3",
   "version": "3.8.3-final"
  },
  "orig_nbformat": 2,
  "kernelspec": {
   "name": "python_defaultSpec_1599799039807",
   "display_name": "Python 3.8.3 64-bit ('base': conda)"
  }
 },
 "nbformat": 4,
 "nbformat_minor": 2,
 "cells": [
  {
   "cell_type": "code",
   "execution_count": 2,
   "metadata": {},
   "outputs": [],
   "source": [
    "import numpy as np\n",
    "from math import *"
   ]
  },
  {
   "cell_type": "markdown",
   "metadata": {},
   "source": [
    "Laskuharjoitus 1 Tehtävät"
   ]
  },
  {
   "cell_type": "code",
   "execution_count": 3,
   "metadata": {},
   "outputs": [],
   "source": [
    "def vec_len(*arg):\n",
    "    return [sqrt(sum(i ** 2)) for i in arg]"
   ]
  },
  {
   "cell_type": "markdown",
   "metadata": {},
   "source": [
    "Tehtävä 1"
   ]
  },
  {
   "cell_type": "code",
   "execution_count": 4,
   "metadata": {
    "tags": []
   },
   "outputs": [
    {
     "output_type": "stream",
     "name": "stdout",
     "text": "-2\n"
    },
    {
     "output_type": "execute_result",
     "data": {
      "text/plain": "'Vektorit ei ole vastakkaisia u@v!=0'"
     },
     "metadata": {},
     "execution_count": 4
    }
   ],
   "source": [
    "u = np.array([1,-1,2])\n",
    "v = np.array([-2,2,1])\n",
    "print(u@v)\n",
    "'''Vektorit ei ole vastakkaisia u@v!=0'''"
   ]
  },
  {
   "cell_type": "code",
   "execution_count": 5,
   "metadata": {
    "tags": []
   },
   "outputs": [
    {
     "output_type": "stream",
     "name": "stdout",
     "text": "Vektorien kulma: 105.79316904826396\n"
    }
   ],
   "source": [
    "print(f'Vektorien kulma: {degrees(acos((u @ v) / (vec_len(u)[0] * vec_len(v)[0])))}')"
   ]
  },
  {
   "cell_type": "code",
   "execution_count": null,
   "metadata": {},
   "outputs": [],
   "source": []
  }
 ]
}